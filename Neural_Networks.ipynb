{
  "nbformat": 4,
  "nbformat_minor": 0,
  "metadata": {
    "colab": {
      "provenance": []
    },
    "kernelspec": {
      "name": "python3",
      "display_name": "Python 3"
    },
    "language_info": {
      "name": "python"
    }
  },
  "cells": [
    {
      "cell_type": "code",
      "execution_count": 1,
      "metadata": {
        "colab": {
          "base_uri": "https://localhost:8080/",
          "height": 36
        },
        "id": "AeB51G3c1Zbx",
        "outputId": "2efe6ef1-3788-4175-fab9-f1f12d65e0ff"
      },
      "outputs": [
        {
          "output_type": "execute_result",
          "data": {
            "text/plain": [
              "'2.12.0'"
            ],
            "application/vnd.google.colaboratory.intrinsic+json": {
              "type": "string"
            }
          },
          "metadata": {},
          "execution_count": 1
        }
      ],
      "source": [
        "import tensorflow as tf\n",
        "import pandas as pd\n",
        "import numpy as np\n",
        "import matplotlib.pyplot as plt\n",
        "\n",
        "plt.rcParams['figure.figsize'] = (8, 8)\n",
        "\n",
        "tf.__version__"
      ]
    },
    {
      "cell_type": "code",
      "source": [
        "borrower_features = np.array([[2., 2., 43.]], np.float32)"
      ],
      "metadata": {
        "id": "0AMLZ6UU15Ui"
      },
      "execution_count": 2,
      "outputs": []
    },
    {
      "cell_type": "code",
      "source": [
        "# Initialize bias1\n",
        "bias1 = tf.Variable(1.0, tf.float32)\n",
        "\n",
        "# Initialize weights1 as 3x2 variable of ones\n",
        "weights1 = tf.Variable(tf.ones((3, 2)))\n",
        "\n",
        "# Perform matrix multiplication of borrower_features and weights1\n",
        "product1 = tf.matmul(borrower_features, weights1)\n",
        "\n",
        "# Apply sigmoid activation function to product1 + bias1\n",
        "dense1 = tf.keras.activations.sigmoid(product1 + bias1)\n",
        "\n",
        "# Print shape of dense1\n",
        "print(\"dense1's output shape: {}\".format(dense1.shape))"
      ],
      "metadata": {
        "colab": {
          "base_uri": "https://localhost:8080/"
        },
        "id": "UDC-zRcq17JB",
        "outputId": "25556450-f1a0-4c2c-95b4-26539becac76"
      },
      "execution_count": 3,
      "outputs": [
        {
          "output_type": "stream",
          "name": "stdout",
          "text": [
            "dense1's output shape: (1, 2)\n"
          ]
        }
      ]
    },
    {
      "cell_type": "code",
      "source": [
        "# Initialize bias2 and weights2\n",
        "bias2 = tf.Variable(1.0)\n",
        "weights2 = tf.Variable(tf.ones((2, 1)))\n",
        "\n",
        "# Perform matrix multiplication of dense1 and weights2\n",
        "product2 = tf.matmul(dense1, weights2)\n",
        "\n",
        "# Apply activation to product2 + bias2 and print the prediction\n",
        "prediction = tf.keras.activations.sigmoid(product2 + bias2)\n",
        "print('prediction: {}'.format(prediction.numpy()[0, 0]))\n",
        "print('\\n actual: 1')"
      ],
      "metadata": {
        "colab": {
          "base_uri": "https://localhost:8080/"
        },
        "id": "a1gczh7Y183Y",
        "outputId": "bc3afbd7-3fea-40b5-d7e4-88bb8248c09a"
      },
      "execution_count": 4,
      "outputs": [
        {
          "output_type": "stream",
          "name": "stdout",
          "text": [
            "prediction: 0.9525741338729858\n",
            "\n",
            " actual: 1\n"
          ]
        }
      ]
    },
    {
      "cell_type": "code",
      "source": [
        "bias1 = tf.Variable([0.1], tf.float32)\n",
        "\n",
        "# Compute the product of borrower_features and weights1\n",
        "products1 = tf.matmul(borrower_features, weights1)\n",
        "\n",
        "# Apply a sigmoid activation function to products1 + bias1\n",
        "dense1 = tf.keras.activations.sigmoid(products1 + bias1)\n",
        "\n",
        "# Print the shapes of borrower_features, weights1, bias1, and dense1\n",
        "print('\\n shape of borrower_features: ', borrower_features.shape)\n",
        "print('\\n shape of weights1: ', weights1.shape)\n",
        "print('\\n shape of bias1: ', bias1.shape)\n",
        "print('\\n shape of dense1: ', dense1.shape)"
      ],
      "metadata": {
        "colab": {
          "base_uri": "https://localhost:8080/"
        },
        "id": "Z0WlnzFU193b",
        "outputId": "d32857cf-4c8f-4e1f-d96c-c63723debe77"
      },
      "execution_count": 5,
      "outputs": [
        {
          "output_type": "stream",
          "name": "stdout",
          "text": [
            "\n",
            " shape of borrower_features:  (1, 3)\n",
            "\n",
            " shape of weights1:  (3, 2)\n",
            "\n",
            " shape of bias1:  (1,)\n",
            "\n",
            " shape of dense1:  (1, 2)\n"
          ]
        }
      ]
    },
    {
      "cell_type": "code",
      "source": [
        "df = pd.read_csv('uci_credit_card.csv')\n",
        "df.head()"
      ],
      "metadata": {
        "colab": {
          "base_uri": "https://localhost:8080/",
          "height": 299
        },
        "id": "oP6e_vDL1_8z",
        "outputId": "d31c70d4-3d29-4cf8-a6d3-2eedc8797836"
      },
      "execution_count": 6,
      "outputs": [
        {
          "output_type": "execute_result",
          "data": {
            "text/plain": [
              "   ID  LIMIT_BAL  SEX  EDUCATION  MARRIAGE  AGE  PAY_0  PAY_2  PAY_3  PAY_4  \\\n",
              "0   1    20000.0    2          2         1   24      2      2     -1     -1   \n",
              "1   2   120000.0    2          2         2   26     -1      2      0      0   \n",
              "2   3    90000.0    2          2         2   34      0      0      0      0   \n",
              "3   4    50000.0    2          2         1   37      0      0      0      0   \n",
              "4   5    50000.0    1          2         1   57     -1      0     -1      0   \n",
              "\n",
              "   ...  BILL_AMT4  BILL_AMT5  BILL_AMT6  PAY_AMT1  PAY_AMT2  PAY_AMT3  \\\n",
              "0  ...        0.0        0.0        0.0       0.0     689.0       0.0   \n",
              "1  ...     3272.0     3455.0     3261.0       0.0    1000.0    1000.0   \n",
              "2  ...    14331.0    14948.0    15549.0    1518.0    1500.0    1000.0   \n",
              "3  ...    28314.0    28959.0    29547.0    2000.0    2019.0    1200.0   \n",
              "4  ...    20940.0    19146.0    19131.0    2000.0   36681.0   10000.0   \n",
              "\n",
              "   PAY_AMT4  PAY_AMT5  PAY_AMT6  default.payment.next.month  \n",
              "0       0.0       0.0       0.0                           1  \n",
              "1    1000.0       0.0    2000.0                           1  \n",
              "2    1000.0    1000.0    5000.0                           0  \n",
              "3    1100.0    1069.0    1000.0                           0  \n",
              "4    9000.0     689.0     679.0                           0  \n",
              "\n",
              "[5 rows x 25 columns]"
            ],
            "text/html": [
              "\n",
              "  <div id=\"df-bb5f1150-946c-4930-b823-b02fa06a6934\">\n",
              "    <div class=\"colab-df-container\">\n",
              "      <div>\n",
              "<style scoped>\n",
              "    .dataframe tbody tr th:only-of-type {\n",
              "        vertical-align: middle;\n",
              "    }\n",
              "\n",
              "    .dataframe tbody tr th {\n",
              "        vertical-align: top;\n",
              "    }\n",
              "\n",
              "    .dataframe thead th {\n",
              "        text-align: right;\n",
              "    }\n",
              "</style>\n",
              "<table border=\"1\" class=\"dataframe\">\n",
              "  <thead>\n",
              "    <tr style=\"text-align: right;\">\n",
              "      <th></th>\n",
              "      <th>ID</th>\n",
              "      <th>LIMIT_BAL</th>\n",
              "      <th>SEX</th>\n",
              "      <th>EDUCATION</th>\n",
              "      <th>MARRIAGE</th>\n",
              "      <th>AGE</th>\n",
              "      <th>PAY_0</th>\n",
              "      <th>PAY_2</th>\n",
              "      <th>PAY_3</th>\n",
              "      <th>PAY_4</th>\n",
              "      <th>...</th>\n",
              "      <th>BILL_AMT4</th>\n",
              "      <th>BILL_AMT5</th>\n",
              "      <th>BILL_AMT6</th>\n",
              "      <th>PAY_AMT1</th>\n",
              "      <th>PAY_AMT2</th>\n",
              "      <th>PAY_AMT3</th>\n",
              "      <th>PAY_AMT4</th>\n",
              "      <th>PAY_AMT5</th>\n",
              "      <th>PAY_AMT6</th>\n",
              "      <th>default.payment.next.month</th>\n",
              "    </tr>\n",
              "  </thead>\n",
              "  <tbody>\n",
              "    <tr>\n",
              "      <th>0</th>\n",
              "      <td>1</td>\n",
              "      <td>20000.0</td>\n",
              "      <td>2</td>\n",
              "      <td>2</td>\n",
              "      <td>1</td>\n",
              "      <td>24</td>\n",
              "      <td>2</td>\n",
              "      <td>2</td>\n",
              "      <td>-1</td>\n",
              "      <td>-1</td>\n",
              "      <td>...</td>\n",
              "      <td>0.0</td>\n",
              "      <td>0.0</td>\n",
              "      <td>0.0</td>\n",
              "      <td>0.0</td>\n",
              "      <td>689.0</td>\n",
              "      <td>0.0</td>\n",
              "      <td>0.0</td>\n",
              "      <td>0.0</td>\n",
              "      <td>0.0</td>\n",
              "      <td>1</td>\n",
              "    </tr>\n",
              "    <tr>\n",
              "      <th>1</th>\n",
              "      <td>2</td>\n",
              "      <td>120000.0</td>\n",
              "      <td>2</td>\n",
              "      <td>2</td>\n",
              "      <td>2</td>\n",
              "      <td>26</td>\n",
              "      <td>-1</td>\n",
              "      <td>2</td>\n",
              "      <td>0</td>\n",
              "      <td>0</td>\n",
              "      <td>...</td>\n",
              "      <td>3272.0</td>\n",
              "      <td>3455.0</td>\n",
              "      <td>3261.0</td>\n",
              "      <td>0.0</td>\n",
              "      <td>1000.0</td>\n",
              "      <td>1000.0</td>\n",
              "      <td>1000.0</td>\n",
              "      <td>0.0</td>\n",
              "      <td>2000.0</td>\n",
              "      <td>1</td>\n",
              "    </tr>\n",
              "    <tr>\n",
              "      <th>2</th>\n",
              "      <td>3</td>\n",
              "      <td>90000.0</td>\n",
              "      <td>2</td>\n",
              "      <td>2</td>\n",
              "      <td>2</td>\n",
              "      <td>34</td>\n",
              "      <td>0</td>\n",
              "      <td>0</td>\n",
              "      <td>0</td>\n",
              "      <td>0</td>\n",
              "      <td>...</td>\n",
              "      <td>14331.0</td>\n",
              "      <td>14948.0</td>\n",
              "      <td>15549.0</td>\n",
              "      <td>1518.0</td>\n",
              "      <td>1500.0</td>\n",
              "      <td>1000.0</td>\n",
              "      <td>1000.0</td>\n",
              "      <td>1000.0</td>\n",
              "      <td>5000.0</td>\n",
              "      <td>0</td>\n",
              "    </tr>\n",
              "    <tr>\n",
              "      <th>3</th>\n",
              "      <td>4</td>\n",
              "      <td>50000.0</td>\n",
              "      <td>2</td>\n",
              "      <td>2</td>\n",
              "      <td>1</td>\n",
              "      <td>37</td>\n",
              "      <td>0</td>\n",
              "      <td>0</td>\n",
              "      <td>0</td>\n",
              "      <td>0</td>\n",
              "      <td>...</td>\n",
              "      <td>28314.0</td>\n",
              "      <td>28959.0</td>\n",
              "      <td>29547.0</td>\n",
              "      <td>2000.0</td>\n",
              "      <td>2019.0</td>\n",
              "      <td>1200.0</td>\n",
              "      <td>1100.0</td>\n",
              "      <td>1069.0</td>\n",
              "      <td>1000.0</td>\n",
              "      <td>0</td>\n",
              "    </tr>\n",
              "    <tr>\n",
              "      <th>4</th>\n",
              "      <td>5</td>\n",
              "      <td>50000.0</td>\n",
              "      <td>1</td>\n",
              "      <td>2</td>\n",
              "      <td>1</td>\n",
              "      <td>57</td>\n",
              "      <td>-1</td>\n",
              "      <td>0</td>\n",
              "      <td>-1</td>\n",
              "      <td>0</td>\n",
              "      <td>...</td>\n",
              "      <td>20940.0</td>\n",
              "      <td>19146.0</td>\n",
              "      <td>19131.0</td>\n",
              "      <td>2000.0</td>\n",
              "      <td>36681.0</td>\n",
              "      <td>10000.0</td>\n",
              "      <td>9000.0</td>\n",
              "      <td>689.0</td>\n",
              "      <td>679.0</td>\n",
              "      <td>0</td>\n",
              "    </tr>\n",
              "  </tbody>\n",
              "</table>\n",
              "<p>5 rows × 25 columns</p>\n",
              "</div>\n",
              "      <button class=\"colab-df-convert\" onclick=\"convertToInteractive('df-bb5f1150-946c-4930-b823-b02fa06a6934')\"\n",
              "              title=\"Convert this dataframe to an interactive table.\"\n",
              "              style=\"display:none;\">\n",
              "        \n",
              "  <svg xmlns=\"http://www.w3.org/2000/svg\" height=\"24px\"viewBox=\"0 0 24 24\"\n",
              "       width=\"24px\">\n",
              "    <path d=\"M0 0h24v24H0V0z\" fill=\"none\"/>\n",
              "    <path d=\"M18.56 5.44l.94 2.06.94-2.06 2.06-.94-2.06-.94-.94-2.06-.94 2.06-2.06.94zm-11 1L8.5 8.5l.94-2.06 2.06-.94-2.06-.94L8.5 2.5l-.94 2.06-2.06.94zm10 10l.94 2.06.94-2.06 2.06-.94-2.06-.94-.94-2.06-.94 2.06-2.06.94z\"/><path d=\"M17.41 7.96l-1.37-1.37c-.4-.4-.92-.59-1.43-.59-.52 0-1.04.2-1.43.59L10.3 9.45l-7.72 7.72c-.78.78-.78 2.05 0 2.83L4 21.41c.39.39.9.59 1.41.59.51 0 1.02-.2 1.41-.59l7.78-7.78 2.81-2.81c.8-.78.8-2.07 0-2.86zM5.41 20L4 18.59l7.72-7.72 1.47 1.35L5.41 20z\"/>\n",
              "  </svg>\n",
              "      </button>\n",
              "      \n",
              "  <style>\n",
              "    .colab-df-container {\n",
              "      display:flex;\n",
              "      flex-wrap:wrap;\n",
              "      gap: 12px;\n",
              "    }\n",
              "\n",
              "    .colab-df-convert {\n",
              "      background-color: #E8F0FE;\n",
              "      border: none;\n",
              "      border-radius: 50%;\n",
              "      cursor: pointer;\n",
              "      display: none;\n",
              "      fill: #1967D2;\n",
              "      height: 32px;\n",
              "      padding: 0 0 0 0;\n",
              "      width: 32px;\n",
              "    }\n",
              "\n",
              "    .colab-df-convert:hover {\n",
              "      background-color: #E2EBFA;\n",
              "      box-shadow: 0px 1px 2px rgba(60, 64, 67, 0.3), 0px 1px 3px 1px rgba(60, 64, 67, 0.15);\n",
              "      fill: #174EA6;\n",
              "    }\n",
              "\n",
              "    [theme=dark] .colab-df-convert {\n",
              "      background-color: #3B4455;\n",
              "      fill: #D2E3FC;\n",
              "    }\n",
              "\n",
              "    [theme=dark] .colab-df-convert:hover {\n",
              "      background-color: #434B5C;\n",
              "      box-shadow: 0px 1px 3px 1px rgba(0, 0, 0, 0.15);\n",
              "      filter: drop-shadow(0px 1px 2px rgba(0, 0, 0, 0.3));\n",
              "      fill: #FFFFFF;\n",
              "    }\n",
              "  </style>\n",
              "\n",
              "      <script>\n",
              "        const buttonEl =\n",
              "          document.querySelector('#df-bb5f1150-946c-4930-b823-b02fa06a6934 button.colab-df-convert');\n",
              "        buttonEl.style.display =\n",
              "          google.colab.kernel.accessAllowed ? 'block' : 'none';\n",
              "\n",
              "        async function convertToInteractive(key) {\n",
              "          const element = document.querySelector('#df-bb5f1150-946c-4930-b823-b02fa06a6934');\n",
              "          const dataTable =\n",
              "            await google.colab.kernel.invokeFunction('convertToInteractive',\n",
              "                                                     [key], {});\n",
              "          if (!dataTable) return;\n",
              "\n",
              "          const docLinkHtml = 'Like what you see? Visit the ' +\n",
              "            '<a target=\"_blank\" href=https://colab.research.google.com/notebooks/data_table.ipynb>data table notebook</a>'\n",
              "            + ' to learn more about interactive tables.';\n",
              "          element.innerHTML = '';\n",
              "          dataTable['output_type'] = 'display_data';\n",
              "          await google.colab.output.renderOutput(dataTable, element);\n",
              "          const docLink = document.createElement('div');\n",
              "          docLink.innerHTML = docLinkHtml;\n",
              "          element.appendChild(docLink);\n",
              "        }\n",
              "      </script>\n",
              "    </div>\n",
              "  </div>\n",
              "  "
            ]
          },
          "metadata": {},
          "execution_count": 6
        }
      ]
    },
    {
      "cell_type": "code",
      "source": [
        "features = df.columns[1:11].tolist()\n",
        "borrower_features = df[features].values\n",
        "borrower_features = tf.convert_to_tensor(borrower_features, np.float32)\n",
        "idx = tf.constant(list(range(0,100)))\n",
        "borrower_features = tf.gather(borrower_features, idx)"
      ],
      "metadata": {
        "id": "ZPS_gAAK2C6s"
      },
      "execution_count": 7,
      "outputs": []
    },
    {
      "cell_type": "code",
      "source": [
        "# Define the first dense layer\n",
        "dense1 = tf.keras.layers.Dense(7, activation='sigmoid')(borrower_features)\n",
        "\n",
        "# Define a dense layer with 3 output nodes\n",
        "dense2 = tf.keras.layers.Dense(3, activation='sigmoid')(dense1)\n",
        "\n",
        "# Define a dense layer with 1 output node\n",
        "predictions = tf.keras.layers.Dense(1, activation='sigmoid')(dense2)\n",
        "\n",
        "# Print the shapes of dense1, dense2, and predictions\n",
        "print('\\n shape of dense1: ', dense1.shape)\n",
        "print('\\n shape of dense2: ', dense2.shape)\n",
        "print('\\n shape of predictions: ', predictions.shape)"
      ],
      "metadata": {
        "colab": {
          "base_uri": "https://localhost:8080/"
        },
        "id": "m_in5_ua2F8e",
        "outputId": "f7574b84-ead5-494c-ae1a-4d637cf4702f"
      },
      "execution_count": 8,
      "outputs": [
        {
          "output_type": "stream",
          "name": "stdout",
          "text": [
            "\n",
            " shape of dense1:  (100, 7)\n",
            "\n",
            " shape of dense2:  (100, 3)\n",
            "\n",
            " shape of predictions:  (100, 1)\n"
          ]
        }
      ]
    },
    {
      "cell_type": "code",
      "source": [
        "bill_amounts = df[['BILL_AMT1', 'BILL_AMT2', 'BILL_AMT3']].to_numpy()\n",
        "default = df[['default.payment.next.month']].to_numpy()"
      ],
      "metadata": {
        "id": "j17Shi_m2IGK"
      },
      "execution_count": 9,
      "outputs": []
    },
    {
      "cell_type": "code",
      "source": [
        "# Construct input layer from features\n",
        "inputs = tf.constant(bill_amounts, tf.float32)\n",
        "\n",
        "# Define first dense layer\n",
        "dense1 = tf.keras.layers.Dense(3, activation='relu')(inputs)\n",
        "\n",
        "# Define second dense layer\n",
        "dense2 = tf.keras.layers.Dense(2, activation='relu')(dense1)\n",
        "\n",
        "# Define output layer\n",
        "outputs = tf.keras.layers.Dense(1, activation='sigmoid')(dense2)\n",
        "\n",
        "# Print error for first five examples\n",
        "error = default[:5] - outputs.numpy()[:5]\n",
        "print(error)"
      ],
      "metadata": {
        "colab": {
          "base_uri": "https://localhost:8080/"
        },
        "id": "oKUJ5w0e2MDc",
        "outputId": "5f4c4c1d-7acb-4368-ede5-fd16dc8d7857"
      },
      "execution_count": 10,
      "outputs": [
        {
          "output_type": "stream",
          "name": "stdout",
          "text": [
            "[[ 1. ]\n",
            " [ 1. ]\n",
            " [ 0. ]\n",
            " [ 0. ]\n",
            " [-0.5]]\n"
          ]
        }
      ]
    },
    {
      "cell_type": "code",
      "source": [
        "features = df.columns[1:11].tolist()\n",
        "borrower_features = df[features].values"
      ],
      "metadata": {
        "id": "qC9LM0bb2OCo"
      },
      "execution_count": 11,
      "outputs": []
    },
    {
      "cell_type": "code",
      "source": [
        "# Construct input layer from borrower features\n",
        "inputs = tf.constant(borrower_features, tf.float32)\n",
        "\n",
        "# Define first dense layer\n",
        "dense1 = tf.keras.layers.Dense(10, activation='sigmoid')(inputs)\n",
        "\n",
        "# Define second dense layer\n",
        "dense2 = tf.keras.layers.Dense(8, activation='relu')(dense1)\n",
        "\n",
        "# Define output layer\n",
        "outputs = tf.keras.layers.Dense(6, activation='softmax')(dense2)\n",
        "\n",
        "# Print first five predictions\n",
        "print(outputs.numpy()[:3])"
      ],
      "metadata": {
        "colab": {
          "base_uri": "https://localhost:8080/"
        },
        "id": "VxrX9Gq02QRc",
        "outputId": "921742fc-2331-4d13-d0d3-23d1982fb8b0"
      },
      "execution_count": 12,
      "outputs": [
        {
          "output_type": "stream",
          "name": "stdout",
          "text": [
            "[[0.2181977  0.19252606 0.12729804 0.07373593 0.0972062  0.29103607]\n",
            " [0.2181977  0.19252606 0.12729804 0.07373593 0.0972062  0.29103607]\n",
            " [0.2181977  0.19252606 0.12729804 0.07373593 0.0972062  0.29103607]]\n"
          ]
        }
      ]
    },
    {
      "cell_type": "code",
      "source": [
        "import math\n",
        "\n",
        "def loss_function(x):\n",
        "    return 4.0 * math.cos(x - 1) + math.cos(2.0 * math.pi * x) / x"
      ],
      "metadata": {
        "id": "xWNXxAqe2UDB"
      },
      "execution_count": 13,
      "outputs": []
    },
    {
      "cell_type": "code",
      "source": [
        "#from tensorflow.keras.optimizers.legacy import SGD\n",
        "# Initialize x_1 and x_2\n",
        "x_1 = tf.Variable(6.0, tf.float32)\n",
        "x_2 = tf.Variable(0.3, tf.float32)\n",
        "\n",
        "# Define the optimization operation\n",
        "opt = tf.keras.optimizers.legacy.SGD(learning_rate=0.01)\n",
        "\n",
        "for j in range(100):\n",
        "    # Perform minimization using the loss function and x_1\n",
        "    opt.minimize(lambda: loss_function(x_1), var_list=[x_1])\n",
        "\n",
        "    # Perform minimization using the loss function and x_2\n",
        "    opt.minimize(lambda: loss_function(x_2), var_list=[x_2])\n",
        "\n",
        "# Print x_1 and x_2 as numpy arrays\n",
        "print(x_1.numpy(), x_2.numpy())"
      ],
      "metadata": {
        "colab": {
          "base_uri": "https://localhost:8080/"
        },
        "id": "67dyxz1n2U7V",
        "outputId": "5753ed82-6b62-45dd-ac14-e86b54169120"
      },
      "execution_count": 14,
      "outputs": [
        {
          "output_type": "stream",
          "name": "stdout",
          "text": [
            "6.027515 0.25\n"
          ]
        }
      ]
    },
    {
      "cell_type": "code",
      "source": [
        "# Initialize x_1 and x_2\n",
        "x_1 = tf.Variable(0.05, tf.float32)\n",
        "x_2 = tf.Variable(0.05, tf.float32)\n",
        "\n",
        "# Define the optimization operation for opt_1 and opt_2\n",
        "opt_1 = tf.keras.optimizers.RMSprop(learning_rate=0.01, momentum=0.99)\n",
        "opt_2 = tf.keras.optimizers.RMSprop(learning_rate=0.01, momentum=0.00)\n",
        "\n",
        "for j in range(100):\n",
        "    opt_1.minimize(lambda: loss_function(x_1), var_list=[x_1])\n",
        "    # Define the minimization operation for opt_2\n",
        "    opt_2.minimize(lambda: loss_function(x_2), var_list=[x_2])\n",
        "\n",
        "# Print x_1 and x_2 as numpy arrays\n",
        "print(x_1.numpy(), x_2.numpy())"
      ],
      "metadata": {
        "colab": {
          "base_uri": "https://localhost:8080/"
        },
        "id": "071_tm3e2XnD",
        "outputId": "8d6604ad-c2ba-4307-96f5-5ebcfc8cd6a4"
      },
      "execution_count": 15,
      "outputs": [
        {
          "output_type": "stream",
          "name": "stdout",
          "text": [
            "2.744512 0.24999999\n"
          ]
        }
      ]
    },
    {
      "cell_type": "code",
      "source": [
        "# Define the layer 1 weights\n",
        "w1 = tf.Variable(tf.random.normal([23, 7]), tf.float32)\n",
        "\n",
        "# Initialize the layer 1 bias\n",
        "b1 = tf.Variable(tf.ones([7]), tf.float32)\n",
        "\n",
        "# Define the layer 2 weights\n",
        "w2 = tf.Variable(tf.random.normal([7, 1]), tf.float32)\n",
        "\n",
        "# Define the layer 2 bias\n",
        "b2 = tf.Variable(0.0, tf.float32)"
      ],
      "metadata": {
        "id": "GgQ386gm2bRH"
      },
      "execution_count": 16,
      "outputs": []
    },
    {
      "cell_type": "code",
      "source": [
        "from sklearn.model_selection import train_test_split\n",
        "df.head()\n",
        "\n",
        "X = df.iloc[:3000 ,1:24].astype(np.float32).to_numpy()\n",
        "y = df.iloc[:3000, 24].astype(np.float32).to_numpy()"
      ],
      "metadata": {
        "id": "gw0Qlmyr2eYt"
      },
      "execution_count": 17,
      "outputs": []
    },
    {
      "cell_type": "code",
      "source": [
        "y"
      ],
      "metadata": {
        "colab": {
          "base_uri": "https://localhost:8080/"
        },
        "id": "WLA1B4GT2iAt",
        "outputId": "48376adc-cc81-4492-ca81-234d05303f4a"
      },
      "execution_count": 18,
      "outputs": [
        {
          "output_type": "execute_result",
          "data": {
            "text/plain": [
              "array([1., 1., 0., ..., 0., 1., 0.], dtype=float32)"
            ]
          },
          "metadata": {},
          "execution_count": 18
        }
      ]
    },
    {
      "cell_type": "code",
      "source": [
        "borrower_features, test_features, borrower_targets, test_targets = train_test_split(X,\n",
        "                                                                                    y,\n",
        "                                                                                    test_size=0.25,\n",
        "                                                                                   stratify=y)"
      ],
      "metadata": {
        "id": "-N4F7v932l1_"
      },
      "execution_count": 20,
      "outputs": []
    },
    {
      "cell_type": "code",
      "source": [
        "# Define the model\n",
        "def model(w1, b1, w2, b2, features=borrower_features):\n",
        "    # Apply relu activation function to layer 1\n",
        "    layer1 = tf.keras.activations.relu(tf.matmul(features, w1) + b1)\n",
        "\n",
        "    # Apply Dropout\n",
        "    dropout = tf.keras.layers.Dropout(0.25)(layer1)\n",
        "    return tf.keras.activations.sigmoid(tf.matmul(dropout, w2) + b2)\n",
        "\n",
        "# Define the loss function\n",
        "def loss_function(w1, b1, w2, b2, features=borrower_features, targets = borrower_targets):\n",
        "    predictions = model(w1, b1, w2, b2)\n",
        "\n",
        "    # Pass targets and predictions to the cross entropy loss\n",
        "    return tf.keras.losses.binary_crossentropy(targets, predictions)"
      ],
      "metadata": {
        "id": "FMh3nKtl2pxg"
      },
      "execution_count": 21,
      "outputs": []
    },
    {
      "cell_type": "code",
      "source": [
        "opt = tf.keras.optimizers.Adam(learning_rate=0.1, beta_1=0.9, beta_2=0.999, amsgrad=False)"
      ],
      "metadata": {
        "id": "hA53KVPI2s-T"
      },
      "execution_count": 22,
      "outputs": []
    },
    {
      "cell_type": "code",
      "source": [
        "import seaborn as sns\n",
        "\n",
        "def confusion_matrix_plot(default, model_predictions):\n",
        "    df = pd.DataFrame(np.hstack([default, model_predictions.numpy() > 0.5]),\n",
        "                      columns = ['Actual','Predicted'])\n",
        "    confusion_matrix = pd.crosstab(df['Actual'], df['Predicted'],\n",
        "                                   rownames=['Actual'], colnames=['Predicted'])\n",
        "    sns.heatmap(confusion_matrix, cmap=\"Greys\", fmt=\"d\", annot=True, cbar=False)"
      ],
      "metadata": {
        "id": "YVBQo7En24iY"
      },
      "execution_count": 25,
      "outputs": []
    }
  ]
}